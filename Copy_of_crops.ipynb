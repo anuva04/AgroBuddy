{
  "nbformat": 4,
  "nbformat_minor": 0,
  "metadata": {
    "colab": {
      "name": "Copy of crops.ipynb",
      "provenance": [],
      "toc_visible": true,
      "authorship_tag": "ABX9TyOIVxpHmVW4quERHg5FnUem",
      "include_colab_link": true
    },
    "kernelspec": {
      "name": "python3",
      "display_name": "Python 3"
    },
    "language_info": {
      "name": "python"
    }
  },
  "cells": [
    {
      "cell_type": "markdown",
      "metadata": {
        "id": "view-in-github",
        "colab_type": "text"
      },
      "source": [
        "<a href=\"https://colab.research.google.com/github/anuva04/AgroBuddy/blob/main/Copy_of_crops.ipynb\" target=\"_parent\"><img src=\"https://colab.research.google.com/assets/colab-badge.svg\" alt=\"Open In Colab\"/></a>"
      ]
    },
    {
      "cell_type": "markdown",
      "metadata": {
        "id": "UjJIhDJEKHTk"
      },
      "source": [
        "# Classification of crops\n",
        "### Random forest classifier and XGBoost"
      ]
    },
    {
      "cell_type": "code",
      "metadata": {
        "id": "Mdh4IXzpJ0_7"
      },
      "source": [
        "import numpy as np\n",
        "import matplotlib.pyplot as plt\n",
        "import pandas as pd"
      ],
      "execution_count": null,
      "outputs": []
    },
    {
      "cell_type": "code",
      "metadata": {
        "id": "APwEzbD7KRF8"
      },
      "source": [
        "dataset = pd.read_csv('datasets.csv')\n",
        "X = dataset.iloc[:, :-1].values\n",
        "y = dataset.iloc[:, -1].values"
      ],
      "execution_count": null,
      "outputs": []
    },
    {
      "cell_type": "code",
      "metadata": {
        "id": "ZzYuhh4nKTCD"
      },
      "source": [
        "from sklearn.model_selection import train_test_split\n",
        "X_train, X_test, y_train, y_test = train_test_split(X, y, test_size = 0.25, random_state = 0)"
      ],
      "execution_count": null,
      "outputs": []
    },
    {
      "cell_type": "code",
      "metadata": {
        "colab": {
          "base_uri": "https://localhost:8080/"
        },
        "id": "HZGsRaaiKXxJ",
        "outputId": "32ca92ea-88c9-446f-910f-f209b63f078f"
      },
      "source": [
        "print(X_train)"
      ],
      "execution_count": null,
      "outputs": [
        {
          "output_type": "stream",
          "name": "stdout",
          "text": [
            "[[7.2  0.46 0.81 0.24]\n",
            " [6.11 0.5  0.55 0.37]\n",
            " [7.83 0.42 0.63 0.2 ]\n",
            " ...\n",
            " [5.18 0.58 0.75 0.13]\n",
            " [6.54 0.58 0.21 0.16]\n",
            " [5.74 0.44 0.55 0.64]]\n"
          ]
        }
      ]
    },
    {
      "cell_type": "code",
      "metadata": {
        "colab": {
          "base_uri": "https://localhost:8080/"
        },
        "id": "4hIem_GZKa1l",
        "outputId": "dcf5c757-6e7f-4da3-be17-9d19075bd258"
      },
      "source": [
        "print(X_test)"
      ],
      "execution_count": null,
      "outputs": [
        {
          "output_type": "stream",
          "name": "stdout",
          "text": [
            "[[5.3  0.87 0.55 0.04]\n",
            " [5.59 0.52 0.7  0.26]\n",
            " [5.53 0.85 0.53 0.11]\n",
            " ...\n",
            " [5.12 0.86 0.44 0.02]\n",
            " [6.23 0.75 0.39 0.19]\n",
            " [7.24 0.76 0.79 0.29]]\n"
          ]
        }
      ]
    },
    {
      "cell_type": "code",
      "metadata": {
        "colab": {
          "base_uri": "https://localhost:8080/"
        },
        "id": "kxx2yWeEKctK",
        "outputId": "ca8fd258-d3cf-4068-e1f5-e5b0c2a5cbd7"
      },
      "source": [
        "print(y_train)"
      ],
      "execution_count": null,
      "outputs": [
        {
          "output_type": "stream",
          "name": "stdout",
          "text": [
            "['tomato' 'orange' 'lily' ... 'coffee' 'paddy' 'cauliflower']\n"
          ]
        }
      ]
    },
    {
      "cell_type": "code",
      "metadata": {
        "colab": {
          "base_uri": "https://localhost:8080/"
        },
        "id": "9qMlxmO6Keid",
        "outputId": "34413973-6ca5-40b4-9440-54855a46b9f0"
      },
      "source": [
        "print(y_test)"
      ],
      "execution_count": null,
      "outputs": [
        {
          "output_type": "stream",
          "name": "stdout",
          "text": [
            "['blackberry' 'potato' 'marigold' ... 'blackberry' 'gladiola' 'rose']\n"
          ]
        }
      ]
    },
    {
      "cell_type": "markdown",
      "metadata": {
        "id": "8ppT7hG0Klc6"
      },
      "source": [
        "### Feature Scaling"
      ]
    },
    {
      "cell_type": "code",
      "metadata": {
        "id": "aPyzGPyxKkaB"
      },
      "source": [
        "from sklearn.preprocessing import StandardScaler\n",
        "sc = StandardScaler()\n",
        "X_train = sc.fit_transform(X_train)\n",
        "X_test = sc.transform(X_test)"
      ],
      "execution_count": null,
      "outputs": []
    },
    {
      "cell_type": "code",
      "metadata": {
        "colab": {
          "base_uri": "https://localhost:8080/"
        },
        "id": "HTNCHzT2KrCA",
        "outputId": "2e97b1ad-87ad-43a4-a3cc-d72e9644b77e"
      },
      "source": [
        "print(X_train)"
      ],
      "execution_count": null,
      "outputs": [
        {
          "output_type": "stream",
          "name": "stdout",
          "text": [
            "[[ 1.30286324 -1.2198511   1.23261443  0.0348833 ]\n",
            " [-0.23470409 -0.96876251 -0.53810632  0.87568361]\n",
            " [ 2.19154894 -1.47093969  0.00673083 -0.22382449]\n",
            " ...\n",
            " [-1.54657347 -0.46658533  0.82398657 -0.67656312]\n",
            " [ 0.37185917 -0.46658533 -2.85366423 -0.48253228]\n",
            " [-0.75663062 -1.3453954  -0.53810632  2.62196119]]\n"
          ]
        }
      ]
    },
    {
      "cell_type": "code",
      "metadata": {
        "colab": {
          "base_uri": "https://localhost:8080/"
        },
        "id": "rFyTCnMXKsvl",
        "outputId": "3152855c-546a-4391-84bb-5f3ba7a6a4da"
      },
      "source": [
        "print(X_test)"
      ],
      "execution_count": null,
      "outputs": [
        {
          "output_type": "stream",
          "name": "stdout",
          "text": [
            "[[-1.3773      1.35380696 -0.53810632 -1.25865565]\n",
            " [-0.96822245 -0.84321821  0.48346334  0.16423719]\n",
            " [-1.05285919  1.22826266 -0.67431561 -0.80591702]\n",
            " ...\n",
            " [-1.6312102   1.29103481 -1.28725741 -1.38800954]\n",
            " [-0.06543063  0.60054118 -1.62778063 -0.28850144]\n",
            " [ 1.35928773  0.66331333  1.09640514  0.35826803]]\n"
          ]
        }
      ]
    },
    {
      "cell_type": "markdown",
      "metadata": {
        "id": "BRvFnWksK5VP"
      },
      "source": [
        "### Random Forest Classifier"
      ]
    },
    {
      "cell_type": "code",
      "metadata": {
        "colab": {
          "base_uri": "https://localhost:8080/"
        },
        "id": "RScgJ4mgK9Xu",
        "outputId": "f5a1484f-3c36-4c9a-d93c-e871fdba5418"
      },
      "source": [
        "from sklearn.ensemble import RandomForestClassifier\n",
        "rf_classifier = RandomForestClassifier(n_estimators = 13, criterion = 'entropy', random_state = 0)\n",
        "rf_classifier.fit(X_train, y_train)"
      ],
      "execution_count": null,
      "outputs": [
        {
          "output_type": "execute_result",
          "data": {
            "text/plain": [
              "RandomForestClassifier(criterion='entropy', n_estimators=13, random_state=0)"
            ]
          },
          "metadata": {},
          "execution_count": 28
        }
      ]
    },
    {
      "cell_type": "code",
      "metadata": {
        "colab": {
          "base_uri": "https://localhost:8080/"
        },
        "id": "qwISkY8hLB7N",
        "outputId": "8acf0af1-ced6-4b6f-b693-d3c2d65f7aae"
      },
      "source": [
        "print(rf_classifier.predict(sc.transform([[7.37, 0.86, 0.8, 0.26]])))"
      ],
      "execution_count": null,
      "outputs": [
        {
          "output_type": "stream",
          "name": "stdout",
          "text": [
            "['rose']\n"
          ]
        }
      ]
    },
    {
      "cell_type": "code",
      "metadata": {
        "colab": {
          "base_uri": "https://localhost:8080/"
        },
        "id": "BZgPBBs_LGUF",
        "outputId": "16759380-5f96-40cc-93b0-2df27085ed23"
      },
      "source": [
        "y_pred_rf = rf_classifier.predict(X_test)\n",
        "print(np.concatenate((y_pred_rf.reshape(len(y_pred_rf),1), y_test.reshape(len(y_test),1)),1))"
      ],
      "execution_count": null,
      "outputs": [
        {
          "output_type": "stream",
          "name": "stdout",
          "text": [
            "[['blackberry' 'blackberry']\n",
            " ['potato' 'potato']\n",
            " ['marigold' 'marigold']\n",
            " ...\n",
            " ['blackberry' 'blackberry']\n",
            " ['gladiola' 'gladiola']\n",
            " ['rose' 'rose']]\n"
          ]
        }
      ]
    },
    {
      "cell_type": "code",
      "metadata": {
        "colab": {
          "base_uri": "https://localhost:8080/"
        },
        "id": "Z14nhf3LLPH9",
        "outputId": "e3baddd1-2210-4280-849a-a0c95a6cbfd5"
      },
      "source": [
        "from sklearn.metrics import confusion_matrix, accuracy_score\n",
        "cm = confusion_matrix(y_test, y_pred_rf)\n",
        "print(cm)\n",
        "accuracy_score(y_test, y_pred_rf)"
      ],
      "execution_count": null,
      "outputs": [
        {
          "output_type": "stream",
          "name": "stdout",
          "text": [
            "[[120   0   0   0   0   0   0   0   0   0   1   0   0   0   0   0   0   0\n",
            "    0   0   0]\n",
            " [  0  98  19   0   0   0   6   0   3   0   0   0   0   0   0   0   0   0\n",
            "    0   0   0]\n",
            " [  0  12 123   0   0   0   0   0   0   0   0   0   1   0   0   0   0   0\n",
            "    0   0   0]\n",
            " [  0   0   0 132   0   0   0   0   0   0   0   0   0   0   0   0   0   0\n",
            "    0   0   0]\n",
            " [  0   0   0   0 246   0   0   0   0   0   0   0   0   0   0   0   0   0\n",
            "    0   0   0]\n",
            " [  0   0   0   0   0  86   0   0   0   0   0   0   0   0   0   0   0   0\n",
            "    0  39   0]\n",
            " [  0   3   0   0   0   0 223   0  16   0   0   0   2   0   0   0   0   2\n",
            "    0   0   0]\n",
            " [  0   0   0   0   0   0   0 258   0   0   0   0   3   0   0   0   0   0\n",
            "    0   0   0]\n",
            " [  0   0   0   0   0   0  38   0  88   0   0   0   0   0   0   0   0   5\n",
            "    0   0   0]\n",
            " [  0   0   0   0   0   0   0   0   0  42   0  42   0   0  29   0   0  11\n",
            "    0   0   0]\n",
            " [  0   0   0   0   0   0   0   0   0   0 238   0   0   0   0   0   0   0\n",
            "    0   0   0]\n",
            " [  0   0   0   0   0   0   0   0   0  30   0  70   0   0   2   0   0   9\n",
            "    0   0   0]\n",
            " [  0   2   1   0   0   0   5   9   0   0   0   0 219   0   0   0   0   3\n",
            "    4   0   0]\n",
            " [  1   0   0   0   0   0   0   0   0   0   2   0   0 130   0   0   0   0\n",
            "    0   0   0]\n",
            " [  0   0   0   0   0   0   0   0   0  20   0   3   0   0 224   0   0  11\n",
            "    5   0   0]\n",
            " [  0   0   0   0   0   0   0   0   0   0   0   0   0   0   0 134   0   0\n",
            "    0   0   0]\n",
            " [  0   0   0   0   0   0   0   0   0   0   0   0   0   0   0   0 193   0\n",
            "    0   0   0]\n",
            " [  0   0   0   0   0   0   5   0   7  12   0  25   1   0  34   0   0 160\n",
            "    0   0   0]\n",
            " [  0   0   0   0   0   0   0   0   0   1   0   0   3   0   8   0   0   7\n",
            "  111   0   0]\n",
            " [  0   0   0   0   0  41   0   0   0   0   0   0   0   0   0   0   0   0\n",
            "    0 100   0]\n",
            " [  0   0   0   0   0   0   0   0   0   0   0   0   0   0   0   0   0   0\n",
            "    0   0 115]]\n"
          ]
        },
        {
          "output_type": "execute_result",
          "data": {
            "text/plain": [
              "0.8655719454494851"
            ]
          },
          "metadata": {},
          "execution_count": 31
        }
      ]
    },
    {
      "cell_type": "code",
      "metadata": {
        "colab": {
          "base_uri": "https://localhost:8080/"
        },
        "id": "0NZKudzuLWYj",
        "outputId": "7a01add1-287f-4587-a350-4ba4614583bf"
      },
      "source": [
        "from sklearn.model_selection import cross_val_score\n",
        "accuracies = cross_val_score(estimator = rf_classifier, X = X_train, y = y_train, cv = 10)\n",
        "print(\"Accuracy: {:.2f} %\".format(accuracies.mean()*100))\n",
        "print(\"Standard Deviation: {:.2f} %\".format(accuracies.std()*100))"
      ],
      "execution_count": null,
      "outputs": [
        {
          "output_type": "stream",
          "name": "stdout",
          "text": [
            "Accuracy: 85.91 %\n",
            "Standard Deviation: 0.98 %\n"
          ]
        }
      ]
    },
    {
      "cell_type": "markdown",
      "metadata": {
        "id": "bBRBMT_qLbo-"
      },
      "source": [
        "### XGBoost"
      ]
    },
    {
      "cell_type": "code",
      "metadata": {
        "colab": {
          "base_uri": "https://localhost:8080/"
        },
        "id": "1wtXQA4MLdzu",
        "outputId": "960ad1dd-d838-4b57-9873-2b3672a6c5b0"
      },
      "source": [
        "from xgboost import XGBClassifier\n",
        "params = {\n",
        "    'colsample_bytree': 0.7,\n",
        "    'learning_rate': 0.01,\n",
        "    'max_depth': 6,\n",
        "    'n_estimators': 500\n",
        "}\n",
        "xgbclassifer = XGBClassifier(params=params)\n",
        "xgbclassifer.fit(X_train, y_train)"
      ],
      "execution_count": null,
      "outputs": [
        {
          "output_type": "execute_result",
          "data": {
            "text/plain": [
              "XGBClassifier(objective='multi:softprob',\n",
              "              params={'colsample_bytree': 0.7, 'learning_rate': 0.01,\n",
              "                      'max_depth': 6, 'n_estimators': 500})"
            ]
          },
          "metadata": {},
          "execution_count": 33
        }
      ]
    },
    {
      "cell_type": "markdown",
      "metadata": {
        "id": "4tpWLtdNBoPv"
      },
      "source": [
        "### Grid Search"
      ]
    },
    {
      "cell_type": "code",
      "metadata": {
        "colab": {
          "base_uri": "https://localhost:8080/"
        },
        "id": "KdcZUrHsBsXq",
        "outputId": "96af02d1-2ef3-4bc1-c57e-23a3bf5bc2c5"
      },
      "source": [
        "from sklearn.model_selection import GridSearchCV\n",
        "params = { 'max_depth': [3,6,10],\n",
        "           'learning_rate': [0.01, 0.05, 0.1],\n",
        "           'n_estimators': [100, 500, 1000],\n",
        "           'colsample_bytree': [0.3, 0.7]}\n",
        "grid_search = GridSearchCV(estimator = xgbclassifer,\n",
        "                           param_grid = params,\n",
        "                           scoring = 'accuracy',\n",
        "                           cv = 10,\n",
        "                           n_jobs = -1)\n",
        "grid_search.fit(X_train, y_train)\n",
        "best_accuracy = grid_search.best_score_\n",
        "best_parameters = grid_search.best_params_\n",
        "print(\"Best Accuracy: {:.2f} %\".format(best_accuracy*100))\n",
        "print(\"Best Parameters:\", best_parameters)"
      ],
      "execution_count": null,
      "outputs": [
        {
          "output_type": "stream",
          "name": "stdout",
          "text": [
            "Best Accuracy: 86.80 %\n",
            "Best Parameters: {'colsample_bytree': 0.7, 'learning_rate': 0.01, 'max_depth': 6, 'n_estimators': 500}\n"
          ]
        }
      ]
    },
    {
      "cell_type": "code",
      "metadata": {
        "colab": {
          "base_uri": "https://localhost:8080/"
        },
        "id": "ULbThXKMLgP_",
        "outputId": "46cca7cf-0ed5-48c6-9ea0-c5a960ef8fba"
      },
      "source": [
        "y_pred_xgb = xgbclassifer.predict(X_test)\n",
        "cm = confusion_matrix(y_test, y_pred_xgb)\n",
        "print(cm)\n",
        "print('Accuracy:')\n",
        "accuracy_score(y_test, y_pred_xgb)"
      ],
      "execution_count": null,
      "outputs": [
        {
          "output_type": "stream",
          "name": "stdout",
          "text": [
            "[[120   0   0   0   0   0   1   0   0   0   0   0   0   0   0   0   0   0\n",
            "    0   0   0]\n",
            " [  0 104  15   0   0   0   7   0   0   0   0   0   0   0   0   0   0   0\n",
            "    0   0   0]\n",
            " [  0  18 118   0   0   0   0   0   0   0   0   0   0   0   0   0   0   0\n",
            "    0   0   0]\n",
            " [  0   0   0 132   0   0   0   0   0   0   0   0   0   0   0   0   0   0\n",
            "    0   0   0]\n",
            " [  0   0   0   0 246   0   0   0   0   0   0   0   0   0   0   0   0   0\n",
            "    0   0   0]\n",
            " [  0   0   0   0   0  96   0   0   0   0   0   0   0   0   0   0   0   0\n",
            "    0  29   0]\n",
            " [  0   0   0   0   0   0 234   0  10   0   0   0   1   0   0   0   0   1\n",
            "    0   0   0]\n",
            " [  0   0   0   0   0   0   0 261   0   0   0   0   0   0   0   0   0   0\n",
            "    0   0   0]\n",
            " [  0   2   0   0   0   0  38   0  90   0   0   0   0   0   0   0   0   1\n",
            "    0   0   0]\n",
            " [  0   0   0   0   0   0   0   0   0  21   0  63   0   0  40   0   0   0\n",
            "    0   0   0]\n",
            " [  0   0   0   0   0   0   0   0   0   0 238   0   0   0   0   0   0   0\n",
            "    0   0   0]\n",
            " [  0   0   0   0   0   0   0   0   0   0   0 104   0   0   7   0   0   0\n",
            "    0   0   0]\n",
            " [  0   2   1   0   0   0   5  11   0   0   0   0 224   0   0   0   0   0\n",
            "    0   0   0]\n",
            " [  0   0   0   0   0   0   1   0   0   0   2   0   0 130   0   0   0   0\n",
            "    0   0   0]\n",
            " [  0   0   0   0   0   0   0   0   0   0   0   2   0   0 261   0   0   0\n",
            "    0   0   0]\n",
            " [  0   0   0   0   0   0   0   0   0   0   0   0   0   0   0 134   0   0\n",
            "    0   0   0]\n",
            " [  0   0   0   0   0   0   0   0   0   0   0   0   0   0   0   0 193   0\n",
            "    0   0   0]\n",
            " [  0   0   0   0   0   0   4   0  12   0   0  30   3   0  58   0   0 137\n",
            "    0   0   0]\n",
            " [  0   0   0   0   0   0   0   0   0   0   0   0   8   0  13   0   1   6\n",
            "  102   0   0]\n",
            " [  0   0   0   0   0  42   0   0   0   0   0   0   0   0   0   0   0   0\n",
            "    0  99   0]\n",
            " [  0   0   0   0   0   0   0   0   0   0   0   0   0   0   0   0   0   0\n",
            "    0   0 115]]\n",
            "Accuracy:\n"
          ]
        },
        {
          "output_type": "execute_result",
          "data": {
            "text/plain": [
              "0.8792095741720011"
            ]
          },
          "metadata": {},
          "execution_count": 37
        }
      ]
    },
    {
      "cell_type": "code",
      "metadata": {
        "colab": {
          "base_uri": "https://localhost:8080/"
        },
        "id": "gtp0xt03Li2a",
        "outputId": "8fb6d448-2741-4e12-cac2-f43ded5f5105"
      },
      "source": [
        "accuracies = cross_val_score(estimator = xgbclassifer, X = X_train, y = y_train, cv = 10)\n",
        "print(\"Accuracy: {:.2f} %\".format(accuracies.mean()*100))\n",
        "print(\"Standard Deviation: {:.2f} %\".format(accuracies.std()*100))"
      ],
      "execution_count": null,
      "outputs": [
        {
          "output_type": "stream",
          "name": "stdout",
          "text": [
            "Accuracy: 87.29 %\n",
            "Standard Deviation: 0.92 %\n"
          ]
        }
      ]
    },
    {
      "cell_type": "code",
      "source": [
        "from sklearn.metrics import precision_recall_fscore_support\n",
        "precision_recall_fscore_support(y_test, y_pred_xgb, average='micro')"
      ],
      "metadata": {
        "id": "lm8k2_f9HB_X",
        "outputId": "e0fd4532-5065-4a30-af15-39bd543b9df2",
        "colab": {
          "base_uri": "https://localhost:8080/"
        }
      },
      "execution_count": null,
      "outputs": [
        {
          "output_type": "execute_result",
          "data": {
            "text/plain": [
              "(0.8792095741720011, 0.8792095741720011, 0.879209574172001, None)"
            ]
          },
          "metadata": {},
          "execution_count": 40
        }
      ]
    },
    {
      "cell_type": "code",
      "source": [
        "precision_recall_fscore_support(y_test, y_pred_xgb, average='macro')"
      ],
      "metadata": {
        "id": "0Ot97hHdMuxY",
        "outputId": "a9a79862-fd69-4f56-fc71-17faea2a1ca7",
        "colab": {
          "base_uri": "https://localhost:8080/"
        }
      },
      "execution_count": null,
      "outputs": [
        {
          "output_type": "execute_result",
          "data": {
            "text/plain": [
              "(0.896993804429526, 0.8636753242816592, 0.858530983773338, None)"
            ]
          },
          "metadata": {},
          "execution_count": 41
        }
      ]
    },
    {
      "cell_type": "code",
      "source": [
        "precision_recall_fscore_support(y_test, y_pred_xgb, average='weighted')"
      ],
      "metadata": {
        "id": "U264MKTLMwR0",
        "outputId": "416ba07d-ca29-4594-c766-0d5e7a130160",
        "colab": {
          "base_uri": "https://localhost:8080/"
        }
      },
      "execution_count": null,
      "outputs": [
        {
          "output_type": "execute_result",
          "data": {
            "text/plain": [
              "(0.9010051852079464, 0.8792095741720011, 0.8715633265595669, None)"
            ]
          },
          "metadata": {},
          "execution_count": 42
        }
      ]
    }
  ]
}